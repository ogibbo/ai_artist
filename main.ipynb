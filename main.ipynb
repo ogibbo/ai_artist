{
 "cells": [
  {
   "cell_type": "code",
   "execution_count": null,
   "metadata": {},
   "outputs": [],
   "source": [
    "import tensorflow as tf\n",
    "import matplotlib.pyplot as plt\n",
    "import pandas as pd\n",
    "import os\n",
    "\n",
    "from google.colab import drive\n",
    "from google.colab import files\n",
    "\n",
    "# custom modules\n",
    "from vis_utils import show_ds_examples\n",
    "from artist import Artist\n",
    "from models import Generator, Discriminator, GAN\n",
    "from model_monitor import ModelMonitor"
   ]
  },
  {
   "cell_type": "code",
   "execution_count": null,
   "metadata": {},
   "outputs": [],
   "source": [
    "# Loading personal google drive \n",
    "drive.mount('/content/drive')\n",
    "\n",
    "# Upload your kaggle json api key\n",
    "files.upload()"
   ]
  },
  {
   "cell_type": "code",
   "execution_count": null,
   "metadata": {},
   "outputs": [],
   "source": [
    "# Commands to be run in google collab to import kaggle dataset\n",
    "! pip install -q kaggle\n",
    "! mkdir ~/.kaggle\n",
    "! cp kaggle.json ~/.kaggle/\n",
    "! chmod 600 ~/.kaggle/kaggle.json\n",
    "! kaggle datasets download -d oliverbgibbons/abstract-art\n",
    "! unzip /content/abstract-art.zip"
   ]
  },
  {
   "cell_type": "code",
   "execution_count": null,
   "metadata": {},
   "outputs": [],
   "source": [
    "# dataset location\n",
    "data_dir = '/content/data'\n",
    "# locations to save generated images, final model and losses\n",
    "save_imgs_fp = '/content/drive/MyDrive/ai_artist/images'\n",
    "save_model_fp = '/content/drive/MyDrive/ai_artist/model'\n",
    "save_losses_fp = '/content/drive/MyDrive/ai_artist/losses'\n",
    "\n",
    "# Hyper parameters\n",
    "batch_size = 32\n",
    "num_epochs = 700\n",
    "gen_learning_rate = 0.0001\n",
    "dis_learning_rate = 0.00001\n",
    "latent_space_size = 200\n",
    "discriminator_noise = 0.15\n",
    "\n",
    "# Constants\n",
    "img_height = 128\n",
    "img_width = img_height"
   ]
  },
  {
   "cell_type": "code",
   "execution_count": null,
   "metadata": {},
   "outputs": [],
   "source": [
    "artist = Artist()\n",
    "\n",
    "# Artist processes data to produce normalised batched dataset\n",
    "artist.process_data(data_dir, img_height, img_width, batch_size)"
   ]
  },
  {
   "cell_type": "code",
   "execution_count": null,
   "metadata": {},
   "outputs": [],
   "source": [
    "# Initialising generator and discriminator models\n",
    "generator = Generator(latent_dim=latent_space_size, image_size=img_height)\n",
    "discriminator = Discriminator(img_width, img_height, discriminator_noise)\n",
    "\n",
    "# Initialising GAN using these two models and passing constant noise value\n",
    "gan = GAN(generator, discriminator)\n",
    "\n",
    "# Model monitor will save example image after each epoch in save_imgs location\n",
    "model_monitor = ModelMonitor(latent_space_size, save_imgs_fp)"
   ]
  },
  {
   "cell_type": "code",
   "execution_count": null,
   "metadata": {},
   "outputs": [],
   "source": [
    "artist.learn(gan, num_epochs, gen_learning_rate, dis_learning_rate, model_monitor)"
   ]
  },
  {
   "cell_type": "code",
   "execution_count": null,
   "metadata": {},
   "outputs": [],
   "source": [
    "# Saving the final GAN model once training finished\n",
    "artist.final_gan.generator_model.save(os.path.join(save_model_fp,'final_model.h5'))"
   ]
  }
 ],
 "metadata": {
  "kernelspec": {
   "display_name": "synth_og_env",
   "language": "python",
   "name": "python3"
  },
  "language_info": {
   "codemirror_mode": {
    "name": "ipython",
    "version": 3
   },
   "file_extension": ".py",
   "mimetype": "text/x-python",
   "name": "python",
   "nbconvert_exporter": "python",
   "pygments_lexer": "ipython3",
   "version": "3.10.9"
  },
  "orig_nbformat": 4
 },
 "nbformat": 4,
 "nbformat_minor": 2
}
